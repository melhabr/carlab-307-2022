{
 "cells": [
  {
   "cell_type": "code",
   "execution_count": 1,
   "id": "d5e902eb",
   "metadata": {},
   "outputs": [],
   "source": [
    "import serial"
   ]
  },
  {
   "cell_type": "code",
   "execution_count": 2,
   "id": "51eaf8ff",
   "metadata": {},
   "outputs": [],
   "source": [
    "import time"
   ]
  },
  {
   "cell_type": "code",
   "execution_count": 3,
   "id": "d291228b",
   "metadata": {},
   "outputs": [],
   "source": [
    "COM_PORT = \"COM7\""
   ]
  },
  {
   "cell_type": "code",
   "execution_count": 6,
   "id": "914ecdef",
   "metadata": {},
   "outputs": [],
   "source": [
    "class CarControl: \n",
    "\tdef __init__(self):\n",
    "\t\t# Initialize connection to car\n",
    "\t\tself.ser = serial.Serial(COM_PORT, baudrate=115200,timeout=1)\n",
    "\n",
    "\n",
    "\tdef send_value(self, speed, direction):\n",
    "\t\t# Send control value to car \n",
    "        sendString = speed + \" \" + direction\n",
    "\t\tself.ser.write(sendString.encode())\n"
   ]
  },
  {
   "cell_type": "code",
   "execution_count": null,
   "id": "b98e0c5c",
   "metadata": {},
   "outputs": [],
   "source": []
  }
 ],
 "metadata": {
  "kernelspec": {
   "display_name": "Python 3 (ipykernel)",
   "language": "python",
   "name": "python3"
  },
  "language_info": {
   "codemirror_mode": {
    "name": "ipython",
    "version": 3
   },
   "file_extension": ".py",
   "mimetype": "text/x-python",
   "name": "python",
   "nbconvert_exporter": "python",
   "pygments_lexer": "ipython3",
   "version": "3.9.7"
  }
 },
 "nbformat": 4,
 "nbformat_minor": 5
}
